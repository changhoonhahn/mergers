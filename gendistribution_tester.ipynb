{
 "cells": [
  {
   "cell_type": "code",
   "execution_count": 1,
   "metadata": {},
   "outputs": [],
   "source": [
    "import matplotlib as mpl\n",
    "mpl.use('Agg')\n",
    "\n",
    "from matplotlib import rcParams\n",
    "rcParams['font.family']='serif'\n",
    "rcParams['mathtext.fontset'] = 'dejavuserif'\n",
    "\n",
    "import matplotlib.pyplot as plt\n",
    "\n",
    "import massmapper as mm\n",
    "import numpy as np\n",
    "import random\n",
    "\n",
    "%matplotlib inline"
   ]
  },
  {
   "cell_type": "code",
   "execution_count": 2,
   "metadata": {
    "scrolled": false
   },
   "outputs": [],
   "source": [
    "masswidth=0.5\n",
    "n=1000\n",
    "catalog_kind='subhalo'"
   ]
  },
  {
   "cell_type": "code",
   "execution_count": 3,
   "metadata": {
    "scrolled": false
   },
   "outputs": [
    {
     "name": "stdout",
     "output_type": "stream",
     "text": [
      "# in treepm.subhalo_io.Treepm():\n",
      "  read /data1/arwetzel/lcdm250/snapshot.txt\n",
      "  read  5177765 subhalo from subhalo_tree_00.dat\n",
      "  read  5407196 subhalo from subhalo_tree_01.dat\n",
      "  read  5485481 subhalo from subhalo_tree_02.dat\n",
      "  read  5517336 subhalo from subhalo_tree_03.dat\n",
      "  read  5548084 subhalo from subhalo_tree_04.dat\n",
      "  read  5583078 subhalo from subhalo_tree_05.dat\n",
      "  read  5615345 subhalo from subhalo_tree_06.dat\n",
      "  read  5650410 subhalo from subhalo_tree_07.dat\n",
      "  read  5682696 subhalo from subhalo_tree_08.dat\n",
      "  read  5715688 subhalo from subhalo_tree_09.dat\n",
      "  read  5748795 subhalo from subhalo_tree_10.dat\n",
      "  read  5779167 subhalo from subhalo_tree_11.dat\n",
      "  read  5805949 subhalo from subhalo_tree_12.dat\n",
      "  read  5824060 subhalo from subhalo_tree_13.dat\n",
      "  read  5837797 subhalo from subhalo_tree_14.dat\n",
      "  read  5841491 subhalo from subhalo_tree_15.dat\n",
      "  read  5836226 subhalo from subhalo_tree_16.dat\n",
      "  read  5823060 subhalo from subhalo_tree_17.dat\n",
      "  read  5795900 subhalo from subhalo_tree_18.dat\n",
      "  read  5753867 subhalo from subhalo_tree_19.dat\n",
      "  read  5697344 subhalo from subhalo_tree_20.dat\n",
      "  read  5620673 subhalo from subhalo_tree_21.dat\n",
      "  read  5527314 subhalo from subhalo_tree_22.dat\n",
      "  read  5409626 subhalo from subhalo_tree_23.dat\n",
      "  read  5270374 subhalo from subhalo_tree_24.dat\n",
      "  read  5105362 subhalo from subhalo_tree_25.dat\n",
      "  read  4914942 subhalo from subhalo_tree_26.dat\n",
      "  read  4697199 subhalo from subhalo_tree_27.dat\n",
      "  read  4451504 subhalo from subhalo_tree_28.dat\n",
      "  read  4187628 subhalo from subhalo_tree_29.dat\n",
      "  read  3901457 subhalo from subhalo_tree_30.dat\n",
      "  read  3591830 subhalo from subhalo_tree_31.dat\n",
      "  read  3267446 subhalo from subhalo_tree_32.dat\n",
      "  read  2906961 subhalo from subhalo_tree_33.dat\n",
      "  read  2467383 subhalo from subhalo_tree_34.dat\n"
     ]
    },
    {
     "name": "stderr",
     "output_type": "stream",
     "text": [
      "  0% |                                                                        |\r"
     ]
    },
    {
     "name": "stdout",
     "output_type": "stream",
     "text": [
      "\n",
      "121120 halos in range. Evaluating a sample of 1000.\n"
     ]
    },
    {
     "name": "stderr",
     "output_type": "stream",
     "text": [
      "100% |########################################################################|\n"
     ]
    },
    {
     "data": {
      "text/plain": [
       "<Figure size 432x288 with 0 Axes>"
      ]
     },
     "metadata": {},
     "output_type": "display_data"
    },
    {
     "data": {
      "image/png": "[encoded data removed]",
      "text/plain": [
       "<Figure size 576x432 with 1 Axes>"
      ]
     },
     "metadata": {},
     "output_type": "display_data"
    },
    {
     "name": "stdout",
     "output_type": "stream",
     "text": [
      "# in treepm.subhalo_io.Treepm():\n",
      "  read /data1/arwetzel/lcdm250/snapshot.txt\n",
      "  read  5177765 subhalo from subhalo_tree_00.dat\n",
      "  read  5407196 subhalo from subhalo_tree_01.dat\n",
      "  read  5485481 subhalo from subhalo_tree_02.dat\n",
      "  read  5517336 subhalo from subhalo_tree_03.dat\n",
      "  read  5548084 subhalo from subhalo_tree_04.dat\n",
      "  read  5583078 subhalo from subhalo_tree_05.dat\n",
      "  read  5615345 subhalo from subhalo_tree_06.dat\n",
      "  read  5650410 subhalo from subhalo_tree_07.dat\n",
      "  read  5682696 subhalo from subhalo_tree_08.dat\n",
      "  read  5715688 subhalo from subhalo_tree_09.dat\n",
      "  read  5748795 subhalo from subhalo_tree_10.dat\n",
      "  read  5779167 subhalo from subhalo_tree_11.dat\n",
      "  read  5805949 subhalo from subhalo_tree_12.dat\n",
      "  read  5824060 subhalo from subhalo_tree_13.dat\n",
      "  read  5837797 subhalo from subhalo_tree_14.dat\n",
      "  read  5841491 subhalo from subhalo_tree_15.dat\n",
      "  read  5836226 subhalo from subhalo_tree_16.dat\n",
      "  read  5823060 subhalo from subhalo_tree_17.dat\n",
      "  read  5795900 subhalo from subhalo_tree_18.dat\n",
      "  read  5753867 subhalo from subhalo_tree_19.dat\n",
      "  read  5697344 subhalo from subhalo_tree_20.dat\n",
      "  read  5620673 subhalo from subhalo_tree_21.dat\n",
      "  read  5527314 subhalo from subhalo_tree_22.dat\n",
      "  read  5409626 subhalo from subhalo_tree_23.dat\n",
      "  read  5270374 subhalo from subhalo_tree_24.dat\n",
      "  read  5105362 subhalo from subhalo_tree_25.dat\n",
      "  read  4914942 subhalo from subhalo_tree_26.dat\n",
      "  read  4697199 subhalo from subhalo_tree_27.dat\n",
      "  read  4451504 subhalo from subhalo_tree_28.dat\n",
      "  read  4187628 subhalo from subhalo_tree_29.dat\n",
      "  read  3901457 subhalo from subhalo_tree_30.dat\n",
      "  read  3591830 subhalo from subhalo_tree_31.dat\n",
      "  read  3267446 subhalo from subhalo_tree_32.dat\n",
      "  read  2906961 subhalo from subhalo_tree_33.dat\n",
      "  read  2467383 subhalo from subhalo_tree_34.dat\n"
     ]
    },
    {
     "name": "stderr",
     "output_type": "stream",
     "text": [
      "  0% |                                                                        |\r"
     ]
    },
    {
     "name": "stdout",
     "output_type": "stream",
     "text": [
      "\n",
      "13280 halos in range. Evaluating a sample of 1000.\n"
     ]
    },
    {
     "name": "stderr",
     "output_type": "stream",
     "text": [
      "100% |########################################################################|\n"
     ]
    },
    {
     "data": {
      "text/plain": [
       "<Figure size 432x288 with 0 Axes>"
      ]
     },
     "metadata": {},
     "output_type": "display_data"
    },
    {
     "data": {
      "image/png": "[encoded data removed]",
      "text/plain": [
       "<Figure size 576x432 with 1 Axes>"
      ]
     },
     "metadata": {},
     "output_type": "display_data"
    }
   ],
   "source": [
    "cat12=mm.Mergerdata(12.,masswidth,catalog_kind=catalog_kind,n=n)\n",
    "cat12.gendistributionnew()\n",
    "cat13=mm.Mergerdata(13.,masswidth,catalog_kind=catalog_kind,n=n)\n",
    "cat13.gendistributionnew()"
   ]
  },
  {
   "cell_type": "code",
   "execution_count": 4,
   "metadata": {},
   "outputs": [],
   "source": [
    "Nbins=50.\n",
    "\n",
    "def N_gmratio(cat):\n",
    "    lowerbound=min(cat.mratios)\n",
    "    upperbound=max(cat.mratios)\n",
    "    bins=np.logspace(np.log10(lowerbound),np.log10(upperbound),Nbins)\n",
    "    midbins=(bins[:-1]+bins[1:])/2\n",
    "    N=plt.hist(cat.mratios,bins)[0]\n",
    "    plt.clf()\n",
    "\n",
    "    N=N/len(cat.halis[0])\n",
    "    N_gmratio=np.array([N[i:].sum() for i in np.arange(len(N))]) #N(>=m/m0) --- avg number of mergers that occured with ratios greater than or equal to the given m/m0\n",
    "    \n",
    "    return N_gmratio,midbins\n",
    "\n",
    "def prob_mw(cat):\n",
    "    lowerbound=min(cat.mratios)\n",
    "    upperbound=max(cat.mratios)\n",
    "    bins=np.logspace(np.log10(lowerbound),np.log10(upperbound),Nbins)\n",
    "    midbins=(bins[:-1]+bins[1:])/2\n",
    "    N=plt.hist(cat.mratios,bins)[0]\n",
    "    plt.clf()\n",
    "    \n",
    "    binwid=np.average(np.log10(bins[1:]/bins[:-1])) #bin width in dex\n",
    "    \n",
    "    P=N/len(cat.mratios)/binwid\n",
    "    P_mw=P*midbins*10.**cat.mhal0\n",
    "\n",
    "    return P_mw,midbins"
   ]
  },
  {
   "cell_type": "code",
   "execution_count": 5,
   "metadata": {},
   "outputs": [
    {
     "data": {
      "text/plain": [
       "<Figure size 432x288 with 0 Axes>"
      ]
     },
     "metadata": {},
     "output_type": "display_data"
    },
    {
     "data": {
      "image/png": "[encoded data removed]",
      "text/plain": [
       "<Figure size 648x504 with 1 Axes>"
      ]
     },
     "metadata": {},
     "output_type": "display_data"
    }
   ],
   "source": [
    "Nbins=20.\n",
    "\n",
    "P_mw12,midbins12=prob_mw(cat12)\n",
    "#P_mw13,midbins12=prob_mw(cat13)\n",
    "\n",
    "fig=plt.figure(figsize=(9,7))\n",
    "ax=fig.add_subplot(1,1,1)\n",
    "\n",
    "ax.semilogx(midbins12,P_mw12,'db')\n",
    "#ax.semilogx(midbins13,P_mw13,'dr')\n",
    "ax.set_xlabel('$m/M_0$',fontsize=14)\n",
    "ax.set_ylabel('$f\\\\left(\\\\frac{m}{M_0}\\\\right)$ / [M$_\\odot$ dex$^{-1}]$',fontsize=14)\n",
    "ax.set_title('Mass-Weighted Probability Density of Subhalo Mergers'\n",
    "             ', $M_0=10^{{{0:0.0f}}}$'\n",
    "             .format(cat12.mhal0),\n",
    "             fontsize=16,y=1.04)\n",
    "ax.grid()\n",
    "plt.show()"
   ]
  },
  {
   "cell_type": "code",
   "execution_count": 6,
   "metadata": {},
   "outputs": [
    {
     "data": {
      "text/plain": [
       "<Figure size 432x288 with 0 Axes>"
      ]
     },
     "metadata": {},
     "output_type": "display_data"
    }
   ],
   "source": [
    "N_gmratio12,midbins12= N_gmratio(cat12)\n",
    "N_gmratio13,midbins13= N_gmratio(cat13)"
   ]
  },
  {
   "cell_type": "code",
   "execution_count": 7,
   "metadata": {},
   "outputs": [
    {
     "data": {
      "image/png": "[encoded data removed]",
      "text/plain": [
       "<Figure size 576x432 with 1 Axes>"
      ]
     },
     "metadata": {},
     "output_type": "display_data"
    }
   ],
   "source": [
    "fig=plt.figure(figsize=(8,6))\n",
    "ax=fig.add_subplot(1,1,1)\n",
    "\n",
    "ax.loglog(midbins12,N_gmratio12,'s',mec='b',mfc='None',label='$M_0=10^{12}$ M$_\\odot$')\n",
    "ax.loglog(midbins13,N_gmratio13,'s',mec='r',mfc='None',label='$M_0=10^{13}$ M$_\\odot$')\n",
    "\n",
    "#ax.set_title('$M_0=10^{{{0:0.0f}}}$ halo mergers'.\n",
    "#             format(mainbranches.mhal0),fontsize=16)\n",
    "ax.set_title('Subhalo mergers',fontsize=16)\n",
    "ax.set_xlabel('$m/M_0$',fontsize=14)\n",
    "ax.set_ylabel('$N\\left(\\geq\\\\frac{m}{M_0}\\\\right)$',fontsize=14)\n",
    "#ax.set_xlim(10.**-3.,10.**-0.3)\n",
    "#ax.set_ylim(10.**-1.,10**1.65)\n",
    "ax.tick_params(axis='both',labelsize=13)\n",
    "ax.legend(fontsize=13)\n",
    "ax.grid()\n",
    "\n",
    "plt.show()"
   ]
  }
 ],
 "metadata": {
  "kernelspec": {
   "display_name": "Python 2",
   "language": "python",
   "name": "python2"
  },
  "language_info": {
   "codemirror_mode": {
    "name": "ipython",
    "version": 2
   },
   "file_extension": ".py",
   "mimetype": "text/x-python",
   "name": "python",
   "nbconvert_exporter": "python",
   "pygments_lexer": "ipython2",
   "version": "2.7.5"
  }
 },
 "nbformat": 4,
 "nbformat_minor": 2
}
